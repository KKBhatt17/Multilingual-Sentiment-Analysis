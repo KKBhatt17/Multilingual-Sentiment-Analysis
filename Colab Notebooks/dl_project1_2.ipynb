{
  "nbformat": 4,
  "nbformat_minor": 0,
  "metadata": {
    "colab": {
      "provenance": []
    },
    "kernelspec": {
      "name": "python3",
      "display_name": "Python 3"
    },
    "language_info": {
      "name": "python"
    }
  },
  "cells": [
    {
      "cell_type": "markdown",
      "source": [
        "# bert multilingual embedding"
      ],
      "metadata": {
        "id": "CT5xSB01O3E7"
      }
    },
    {
      "cell_type": "code",
      "execution_count": null,
      "metadata": {
        "colab": {
          "base_uri": "https://localhost:8080/"
        },
        "id": "Lf5Psf-kLUjw",
        "outputId": "11756e62-f099-4e25-ca91-61f68c1ff2b1"
      },
      "outputs": [
        {
          "output_type": "stream",
          "name": "stdout",
          "text": [
            "Collecting transformers\n",
            "  Downloading transformers-4.18.0-py3-none-any.whl (4.0 MB)\n",
            "\u001b[K     |████████████████████████████████| 4.0 MB 4.3 MB/s \n",
            "\u001b[?25hRequirement already satisfied: packaging>=20.0 in /usr/local/lib/python3.7/dist-packages (from transformers) (21.3)\n",
            "Requirement already satisfied: regex!=2019.12.17 in /usr/local/lib/python3.7/dist-packages (from transformers) (2019.12.20)\n",
            "Requirement already satisfied: requests in /usr/local/lib/python3.7/dist-packages (from transformers) (2.23.0)\n",
            "Collecting sacremoses\n",
            "  Downloading sacremoses-0.0.53.tar.gz (880 kB)\n",
            "\u001b[K     |████████████████████████████████| 880 kB 45.3 MB/s \n",
            "\u001b[?25hRequirement already satisfied: filelock in /usr/local/lib/python3.7/dist-packages (from transformers) (3.6.0)\n",
            "Collecting huggingface-hub<1.0,>=0.1.0\n",
            "  Downloading huggingface_hub-0.5.1-py3-none-any.whl (77 kB)\n",
            "\u001b[K     |████████████████████████████████| 77 kB 5.7 MB/s \n",
            "\u001b[?25hCollecting pyyaml>=5.1\n",
            "  Downloading PyYAML-6.0-cp37-cp37m-manylinux_2_5_x86_64.manylinux1_x86_64.manylinux_2_12_x86_64.manylinux2010_x86_64.whl (596 kB)\n",
            "\u001b[K     |████████████████████████████████| 596 kB 49.5 MB/s \n",
            "\u001b[?25hCollecting tokenizers!=0.11.3,<0.13,>=0.11.1\n",
            "  Downloading tokenizers-0.12.1-cp37-cp37m-manylinux_2_12_x86_64.manylinux2010_x86_64.whl (6.6 MB)\n",
            "\u001b[K     |████████████████████████████████| 6.6 MB 28.5 MB/s \n",
            "\u001b[?25hRequirement already satisfied: importlib-metadata in /usr/local/lib/python3.7/dist-packages (from transformers) (4.11.3)\n",
            "Requirement already satisfied: numpy>=1.17 in /usr/local/lib/python3.7/dist-packages (from transformers) (1.21.6)\n",
            "Requirement already satisfied: tqdm>=4.27 in /usr/local/lib/python3.7/dist-packages (from transformers) (4.64.0)\n",
            "Requirement already satisfied: typing-extensions>=3.7.4.3 in /usr/local/lib/python3.7/dist-packages (from huggingface-hub<1.0,>=0.1.0->transformers) (4.2.0)\n",
            "Requirement already satisfied: pyparsing!=3.0.5,>=2.0.2 in /usr/local/lib/python3.7/dist-packages (from packaging>=20.0->transformers) (3.0.8)\n",
            "Requirement already satisfied: zipp>=0.5 in /usr/local/lib/python3.7/dist-packages (from importlib-metadata->transformers) (3.8.0)\n",
            "Requirement already satisfied: idna<3,>=2.5 in /usr/local/lib/python3.7/dist-packages (from requests->transformers) (2.10)\n",
            "Requirement already satisfied: urllib3!=1.25.0,!=1.25.1,<1.26,>=1.21.1 in /usr/local/lib/python3.7/dist-packages (from requests->transformers) (1.24.3)\n",
            "Requirement already satisfied: chardet<4,>=3.0.2 in /usr/local/lib/python3.7/dist-packages (from requests->transformers) (3.0.4)\n",
            "Requirement already satisfied: certifi>=2017.4.17 in /usr/local/lib/python3.7/dist-packages (from requests->transformers) (2021.10.8)\n",
            "Requirement already satisfied: six in /usr/local/lib/python3.7/dist-packages (from sacremoses->transformers) (1.15.0)\n",
            "Requirement already satisfied: click in /usr/local/lib/python3.7/dist-packages (from sacremoses->transformers) (7.1.2)\n",
            "Requirement already satisfied: joblib in /usr/local/lib/python3.7/dist-packages (from sacremoses->transformers) (1.1.0)\n",
            "Building wheels for collected packages: sacremoses\n",
            "  Building wheel for sacremoses (setup.py) ... \u001b[?25l\u001b[?25hdone\n",
            "  Created wheel for sacremoses: filename=sacremoses-0.0.53-py3-none-any.whl size=895260 sha256=8c09b848dd036c32a0b0a4b20b84be0426a66e5169e18665a4f28c238692b7c7\n",
            "  Stored in directory: /root/.cache/pip/wheels/87/39/dd/a83eeef36d0bf98e7a4d1933a4ad2d660295a40613079bafc9\n",
            "Successfully built sacremoses\n",
            "Installing collected packages: pyyaml, tokenizers, sacremoses, huggingface-hub, transformers\n",
            "  Attempting uninstall: pyyaml\n",
            "    Found existing installation: PyYAML 3.13\n",
            "    Uninstalling PyYAML-3.13:\n",
            "      Successfully uninstalled PyYAML-3.13\n",
            "Successfully installed huggingface-hub-0.5.1 pyyaml-6.0 sacremoses-0.0.53 tokenizers-0.12.1 transformers-4.18.0\n"
          ]
        }
      ],
      "source": [
        "!pip install transformers\n"
      ]
    },
    {
      "cell_type": "code",
      "source": [
        "import numpy as np\n",
        "from transformers import TFBertModel, BertTokenizer"
      ],
      "metadata": {
        "id": "MrBNJTFkLich"
      },
      "execution_count": null,
      "outputs": []
    },
    {
      "cell_type": "code",
      "source": [
        "name='bert-base-multilingual-uncased'\n",
        "tokenizer=BertTokenizer.from_pretrained(name)\n",
        "model=TFBertModel.from_pretrained(name)"
      ],
      "metadata": {
        "colab": {
          "base_uri": "https://localhost:8080/"
        },
        "id": "nwwmCIbNLsYB",
        "outputId": "5e8fe55e-67fd-4b38-a5a8-206f972abf05"
      },
      "execution_count": null,
      "outputs": [
        {
          "output_type": "stream",
          "name": "stderr",
          "text": [
            "Some layers from the model checkpoint at bert-base-multilingual-uncased were not used when initializing TFBertModel: ['nsp___cls', 'mlm___cls']\n",
            "- This IS expected if you are initializing TFBertModel from the checkpoint of a model trained on another task or with another architecture (e.g. initializing a BertForSequenceClassification model from a BertForPreTraining model).\n",
            "- This IS NOT expected if you are initializing TFBertModel from the checkpoint of a model that you expect to be exactly identical (initializing a BertForSequenceClassification model from a BertForSequenceClassification model).\n",
            "All the layers of TFBertModel were initialized from the model checkpoint at bert-base-multilingual-uncased.\n",
            "If your task is similar to the task the model of the checkpoint was trained on, you can already use TFBertModel for predictions without further training.\n"
          ]
        }
      ]
    },
    {
      "cell_type": "code",
      "source": [
        "path"
      ],
      "metadata": {
        "colab": {
          "base_uri": "https://localhost:8080/",
          "height": 35
        },
        "id": "3msH7jgonuRZ",
        "outputId": "0e5e08fc-98c9-4939-eae3-43c6eb32ec05"
      },
      "execution_count": null,
      "outputs": [
        {
          "output_type": "execute_result",
          "data": {
            "text/plain": [
              "'/content/drive/MyDrive/Dataset/dl_nlp/'"
            ],
            "application/vnd.google.colaboratory.intrinsic+json": {
              "type": "string"
            }
          },
          "metadata": {},
          "execution_count": 34
        }
      ]
    },
    {
      "cell_type": "code",
      "source": [
        "# model.save_pretrained(path)"
      ],
      "metadata": {
        "id": "nJIbCRMDnyfb"
      },
      "execution_count": null,
      "outputs": []
    },
    {
      "cell_type": "code",
      "source": [
        "# tokenizer.save_pretrained(path)"
      ],
      "metadata": {
        "colab": {
          "base_uri": "https://localhost:8080/"
        },
        "id": "1QbuBkkCn9ZY",
        "outputId": "ab416483-788e-485a-a8d3-49ad5bceaad4"
      },
      "execution_count": null,
      "outputs": [
        {
          "output_type": "execute_result",
          "data": {
            "text/plain": [
              "('/content/drive/MyDrive/Dataset/dl_nlp/tokenizer_config.json',\n",
              " '/content/drive/MyDrive/Dataset/dl_nlp/special_tokens_map.json',\n",
              " '/content/drive/MyDrive/Dataset/dl_nlp/vocab.txt',\n",
              " '/content/drive/MyDrive/Dataset/dl_nlp/added_tokens.json')"
            ]
          },
          "metadata": {},
          "execution_count": 36
        }
      ]
    },
    {
      "cell_type": "code",
      "source": [
        "def get_embeddings(sentence):\n",
        "  encoded_input=tokenizer(sentence,return_tensors='tf')\n",
        "  output=model(encoded_input,output_hidden_states=True)\n",
        "  hidden_states=output.hidden_states\n",
        "  token_vecs=np.concatenate((hidden_states[-4],np.concatenate((hidden_states[-3],np.concatenate((hidden_states[-2],\n",
        "                     hidden_states[-1]),axis=0)),axis=0)),axis=0)\n",
        "  token_rep=np.mean(np.mean(token_vecs,axis=0),axis=0)\n",
        "  return token_rep"
      ],
      "metadata": {
        "id": "ahCH2d0bL9LI"
      },
      "execution_count": null,
      "outputs": []
    },
    {
      "cell_type": "code",
      "source": [
        "# get_embeddings(\"hii ram\")"
      ],
      "metadata": {
        "id": "QO_i4TSstqYM"
      },
      "execution_count": null,
      "outputs": []
    },
    {
      "cell_type": "code",
      "source": [
        "# print(get_embeddings('He is good boy.'))"
      ],
      "metadata": {
        "id": "R9kpvXFLOrms"
      },
      "execution_count": null,
      "outputs": []
    },
    {
      "cell_type": "code",
      "source": [],
      "metadata": {
        "id": "KuzbzcHQO-jt"
      },
      "execution_count": null,
      "outputs": []
    },
    {
      "cell_type": "markdown",
      "source": [
        "# New section"
      ],
      "metadata": {
        "id": "A9zJstCNPBsO"
      }
    },
    {
      "cell_type": "code",
      "source": [
        "import numpy as np\n",
        "import pandas as pd\n",
        "import matplotlib.pyplot as plt"
      ],
      "metadata": {
        "id": "emb-B2daPDz-"
      },
      "execution_count": null,
      "outputs": []
    },
    {
      "cell_type": "code",
      "source": [
        "import tensorflow as tf\n",
        "from tensorflow.keras.models import Sequential\n",
        "from tensorflow.keras.layers import Dense, Input, Dropout, LeakyReLU\n",
        "from tensorflow.keras.optimizers import Adam\n",
        "from sklearn.model_selection import train_test_split"
      ],
      "metadata": {
        "id": "5jIyvhNGSBsZ"
      },
      "execution_count": null,
      "outputs": []
    },
    {
      "cell_type": "code",
      "source": [
        "# emm=get_embeddings('he is good  boy.')\n",
        "# emm=np.array(emm)\n",
        "# type(emm)"
      ],
      "metadata": {
        "id": "ABMWtukmPdwJ"
      },
      "execution_count": null,
      "outputs": []
    },
    {
      "cell_type": "code",
      "source": [
        "path='/content/drive/MyDrive/Dataset/dl_nlp/'"
      ],
      "metadata": {
        "id": "cF65b6yiQkN1"
      },
      "execution_count": null,
      "outputs": []
    },
    {
      "cell_type": "code",
      "source": [
        "data1=pd.read_csv(path+'train5.csv')"
      ],
      "metadata": {
        "id": "Hu9b8LghPtIj"
      },
      "execution_count": null,
      "outputs": []
    },
    {
      "cell_type": "code",
      "source": [
        "data1.head()"
      ],
      "metadata": {
        "colab": {
          "base_uri": "https://localhost:8080/",
          "height": 206
        },
        "id": "cdVCdVHpTXoP",
        "outputId": "9deb3b79-0aeb-4654-ed44-efc60d5516d2"
      },
      "execution_count": null,
      "outputs": [
        {
          "output_type": "execute_result",
          "data": {
            "text/plain": [
              "   sentiment                                               text\n",
              "0         -1      @Slipkn0tMagg0t હું જાણું છું! Slipknot સહિત!\n",
              "1          1                      घोड़ों के साथ सोनिक भोजन करना\n",
              "2         -1  ઓર્લાન્ડો સેન્ટીનેલ ખાતે છટણી વચ્ચે ટિપ્પણી: લ...\n",
              "3          1  मी जागे आहे आणि मी रात्रभर गोळा केलेले सर्व ट्...\n",
              "4          1  @italyburns आणि @CorinVolturi साठी. आणि माझी स..."
            ],
            "text/html": [
              "\n",
              "  <div id=\"df-6242cd37-2041-49eb-a4cd-2c73aeb0c42a\">\n",
              "    <div class=\"colab-df-container\">\n",
              "      <div>\n",
              "<style scoped>\n",
              "    .dataframe tbody tr th:only-of-type {\n",
              "        vertical-align: middle;\n",
              "    }\n",
              "\n",
              "    .dataframe tbody tr th {\n",
              "        vertical-align: top;\n",
              "    }\n",
              "\n",
              "    .dataframe thead th {\n",
              "        text-align: right;\n",
              "    }\n",
              "</style>\n",
              "<table border=\"1\" class=\"dataframe\">\n",
              "  <thead>\n",
              "    <tr style=\"text-align: right;\">\n",
              "      <th></th>\n",
              "      <th>sentiment</th>\n",
              "      <th>text</th>\n",
              "    </tr>\n",
              "  </thead>\n",
              "  <tbody>\n",
              "    <tr>\n",
              "      <th>0</th>\n",
              "      <td>-1</td>\n",
              "      <td>@Slipkn0tMagg0t હું જાણું છું! Slipknot સહિત!</td>\n",
              "    </tr>\n",
              "    <tr>\n",
              "      <th>1</th>\n",
              "      <td>1</td>\n",
              "      <td>घोड़ों के साथ सोनिक भोजन करना</td>\n",
              "    </tr>\n",
              "    <tr>\n",
              "      <th>2</th>\n",
              "      <td>-1</td>\n",
              "      <td>ઓર્લાન્ડો સેન્ટીનેલ ખાતે છટણી વચ્ચે ટિપ્પણી: લ...</td>\n",
              "    </tr>\n",
              "    <tr>\n",
              "      <th>3</th>\n",
              "      <td>1</td>\n",
              "      <td>मी जागे आहे आणि मी रात्रभर गोळा केलेले सर्व ट्...</td>\n",
              "    </tr>\n",
              "    <tr>\n",
              "      <th>4</th>\n",
              "      <td>1</td>\n",
              "      <td>@italyburns आणि @CorinVolturi साठी. आणि माझी स...</td>\n",
              "    </tr>\n",
              "  </tbody>\n",
              "</table>\n",
              "</div>\n",
              "      <button class=\"colab-df-convert\" onclick=\"convertToInteractive('df-6242cd37-2041-49eb-a4cd-2c73aeb0c42a')\"\n",
              "              title=\"Convert this dataframe to an interactive table.\"\n",
              "              style=\"display:none;\">\n",
              "        \n",
              "  <svg xmlns=\"http://www.w3.org/2000/svg\" height=\"24px\"viewBox=\"0 0 24 24\"\n",
              "       width=\"24px\">\n",
              "    <path d=\"M0 0h24v24H0V0z\" fill=\"none\"/>\n",
              "    <path d=\"M18.56 5.44l.94 2.06.94-2.06 2.06-.94-2.06-.94-.94-2.06-.94 2.06-2.06.94zm-11 1L8.5 8.5l.94-2.06 2.06-.94-2.06-.94L8.5 2.5l-.94 2.06-2.06.94zm10 10l.94 2.06.94-2.06 2.06-.94-2.06-.94-.94-2.06-.94 2.06-2.06.94z\"/><path d=\"M17.41 7.96l-1.37-1.37c-.4-.4-.92-.59-1.43-.59-.52 0-1.04.2-1.43.59L10.3 9.45l-7.72 7.72c-.78.78-.78 2.05 0 2.83L4 21.41c.39.39.9.59 1.41.59.51 0 1.02-.2 1.41-.59l7.78-7.78 2.81-2.81c.8-.78.8-2.07 0-2.86zM5.41 20L4 18.59l7.72-7.72 1.47 1.35L5.41 20z\"/>\n",
              "  </svg>\n",
              "      </button>\n",
              "      \n",
              "  <style>\n",
              "    .colab-df-container {\n",
              "      display:flex;\n",
              "      flex-wrap:wrap;\n",
              "      gap: 12px;\n",
              "    }\n",
              "\n",
              "    .colab-df-convert {\n",
              "      background-color: #E8F0FE;\n",
              "      border: none;\n",
              "      border-radius: 50%;\n",
              "      cursor: pointer;\n",
              "      display: none;\n",
              "      fill: #1967D2;\n",
              "      height: 32px;\n",
              "      padding: 0 0 0 0;\n",
              "      width: 32px;\n",
              "    }\n",
              "\n",
              "    .colab-df-convert:hover {\n",
              "      background-color: #E2EBFA;\n",
              "      box-shadow: 0px 1px 2px rgba(60, 64, 67, 0.3), 0px 1px 3px 1px rgba(60, 64, 67, 0.15);\n",
              "      fill: #174EA6;\n",
              "    }\n",
              "\n",
              "    [theme=dark] .colab-df-convert {\n",
              "      background-color: #3B4455;\n",
              "      fill: #D2E3FC;\n",
              "    }\n",
              "\n",
              "    [theme=dark] .colab-df-convert:hover {\n",
              "      background-color: #434B5C;\n",
              "      box-shadow: 0px 1px 3px 1px rgba(0, 0, 0, 0.15);\n",
              "      filter: drop-shadow(0px 1px 2px rgba(0, 0, 0, 0.3));\n",
              "      fill: #FFFFFF;\n",
              "    }\n",
              "  </style>\n",
              "\n",
              "      <script>\n",
              "        const buttonEl =\n",
              "          document.querySelector('#df-6242cd37-2041-49eb-a4cd-2c73aeb0c42a button.colab-df-convert');\n",
              "        buttonEl.style.display =\n",
              "          google.colab.kernel.accessAllowed ? 'block' : 'none';\n",
              "\n",
              "        async function convertToInteractive(key) {\n",
              "          const element = document.querySelector('#df-6242cd37-2041-49eb-a4cd-2c73aeb0c42a');\n",
              "          const dataTable =\n",
              "            await google.colab.kernel.invokeFunction('convertToInteractive',\n",
              "                                                     [key], {});\n",
              "          if (!dataTable) return;\n",
              "\n",
              "          const docLinkHtml = 'Like what you see? Visit the ' +\n",
              "            '<a target=\"_blank\" href=https://colab.research.google.com/notebooks/data_table.ipynb>data table notebook</a>'\n",
              "            + ' to learn more about interactive tables.';\n",
              "          element.innerHTML = '';\n",
              "          dataTable['output_type'] = 'display_data';\n",
              "          await google.colab.output.renderOutput(dataTable, element);\n",
              "          const docLink = document.createElement('div');\n",
              "          docLink.innerHTML = docLinkHtml;\n",
              "          element.appendChild(docLink);\n",
              "        }\n",
              "      </script>\n",
              "    </div>\n",
              "  </div>\n",
              "  "
            ]
          },
          "metadata": {},
          "execution_count": 12
        }
      ]
    },
    {
      "cell_type": "code",
      "source": [
        "data1.loc[data1['sentiment']==-1,'sentiment']=0"
      ],
      "metadata": {
        "id": "Nnsi9pyLTivi"
      },
      "execution_count": null,
      "outputs": []
    },
    {
      "cell_type": "code",
      "source": [
        "data=data1[:]"
      ],
      "metadata": {
        "id": "E-gAnMCeXNGZ"
      },
      "execution_count": null,
      "outputs": []
    },
    {
      "cell_type": "code",
      "source": [
        "data"
      ],
      "metadata": {
        "colab": {
          "base_uri": "https://localhost:8080/",
          "height": 424
        },
        "id": "4FTWDRz7f1G8",
        "outputId": "79f352ec-27ee-406a-d467-0cdd02ee0b82"
      },
      "execution_count": null,
      "outputs": [
        {
          "output_type": "execute_result",
          "data": {
            "text/plain": [
              "       sentiment                                               text\n",
              "0              0      @Slipkn0tMagg0t હું જાણું છું! Slipknot સહિત!\n",
              "1              1                      घोड़ों के साथ सोनिक भोजन करना\n",
              "2              0  ઓર્લાન્ડો સેન્ટીનેલ ખાતે છટણી વચ્ચે ટિપ્પણી: લ...\n",
              "3              1  मी जागे आहे आणि मी रात्रभर गोळा केलेले सर्व ट्...\n",
              "4              1  @italyburns आणि @CorinVolturi साठी. आणि माझी स...\n",
              "...          ...                                                ...\n",
              "44998          0  मेरे नए आईफोन के लिए 23 अगस्त तक इंतजार करना होगा\n",
              "44999          0  तिचा तिरस्कार आहे की ती नेहमीच तिचे PIP grrr क...\n",
              "45000          0           अरे नाही, पावसाचे ओझे आज परत आलेला सूर्य\n",
              "45001          0  OMFG... मला कधी 4 तासांपेक्षा जास्त झोप येईल का??\n",
              "45002          0  @little_neets मैंने अपनी नौकरी छोड़ दी, बस खुश...\n",
              "\n",
              "[45003 rows x 2 columns]"
            ],
            "text/html": [
              "\n",
              "  <div id=\"df-9b412a23-6055-450f-a661-5a11af4c48b8\">\n",
              "    <div class=\"colab-df-container\">\n",
              "      <div>\n",
              "<style scoped>\n",
              "    .dataframe tbody tr th:only-of-type {\n",
              "        vertical-align: middle;\n",
              "    }\n",
              "\n",
              "    .dataframe tbody tr th {\n",
              "        vertical-align: top;\n",
              "    }\n",
              "\n",
              "    .dataframe thead th {\n",
              "        text-align: right;\n",
              "    }\n",
              "</style>\n",
              "<table border=\"1\" class=\"dataframe\">\n",
              "  <thead>\n",
              "    <tr style=\"text-align: right;\">\n",
              "      <th></th>\n",
              "      <th>sentiment</th>\n",
              "      <th>text</th>\n",
              "    </tr>\n",
              "  </thead>\n",
              "  <tbody>\n",
              "    <tr>\n",
              "      <th>0</th>\n",
              "      <td>0</td>\n",
              "      <td>@Slipkn0tMagg0t હું જાણું છું! Slipknot સહિત!</td>\n",
              "    </tr>\n",
              "    <tr>\n",
              "      <th>1</th>\n",
              "      <td>1</td>\n",
              "      <td>घोड़ों के साथ सोनिक भोजन करना</td>\n",
              "    </tr>\n",
              "    <tr>\n",
              "      <th>2</th>\n",
              "      <td>0</td>\n",
              "      <td>ઓર્લાન્ડો સેન્ટીનેલ ખાતે છટણી વચ્ચે ટિપ્પણી: લ...</td>\n",
              "    </tr>\n",
              "    <tr>\n",
              "      <th>3</th>\n",
              "      <td>1</td>\n",
              "      <td>मी जागे आहे आणि मी रात्रभर गोळा केलेले सर्व ट्...</td>\n",
              "    </tr>\n",
              "    <tr>\n",
              "      <th>4</th>\n",
              "      <td>1</td>\n",
              "      <td>@italyburns आणि @CorinVolturi साठी. आणि माझी स...</td>\n",
              "    </tr>\n",
              "    <tr>\n",
              "      <th>...</th>\n",
              "      <td>...</td>\n",
              "      <td>...</td>\n",
              "    </tr>\n",
              "    <tr>\n",
              "      <th>44998</th>\n",
              "      <td>0</td>\n",
              "      <td>मेरे नए आईफोन के लिए 23 अगस्त तक इंतजार करना होगा</td>\n",
              "    </tr>\n",
              "    <tr>\n",
              "      <th>44999</th>\n",
              "      <td>0</td>\n",
              "      <td>तिचा तिरस्कार आहे की ती नेहमीच तिचे PIP grrr क...</td>\n",
              "    </tr>\n",
              "    <tr>\n",
              "      <th>45000</th>\n",
              "      <td>0</td>\n",
              "      <td>अरे नाही, पावसाचे ओझे आज परत आलेला सूर्य</td>\n",
              "    </tr>\n",
              "    <tr>\n",
              "      <th>45001</th>\n",
              "      <td>0</td>\n",
              "      <td>OMFG... मला कधी 4 तासांपेक्षा जास्त झोप येईल का??</td>\n",
              "    </tr>\n",
              "    <tr>\n",
              "      <th>45002</th>\n",
              "      <td>0</td>\n",
              "      <td>@little_neets मैंने अपनी नौकरी छोड़ दी, बस खुश...</td>\n",
              "    </tr>\n",
              "  </tbody>\n",
              "</table>\n",
              "<p>45003 rows × 2 columns</p>\n",
              "</div>\n",
              "      <button class=\"colab-df-convert\" onclick=\"convertToInteractive('df-9b412a23-6055-450f-a661-5a11af4c48b8')\"\n",
              "              title=\"Convert this dataframe to an interactive table.\"\n",
              "              style=\"display:none;\">\n",
              "        \n",
              "  <svg xmlns=\"http://www.w3.org/2000/svg\" height=\"24px\"viewBox=\"0 0 24 24\"\n",
              "       width=\"24px\">\n",
              "    <path d=\"M0 0h24v24H0V0z\" fill=\"none\"/>\n",
              "    <path d=\"M18.56 5.44l.94 2.06.94-2.06 2.06-.94-2.06-.94-.94-2.06-.94 2.06-2.06.94zm-11 1L8.5 8.5l.94-2.06 2.06-.94-2.06-.94L8.5 2.5l-.94 2.06-2.06.94zm10 10l.94 2.06.94-2.06 2.06-.94-2.06-.94-.94-2.06-.94 2.06-2.06.94z\"/><path d=\"M17.41 7.96l-1.37-1.37c-.4-.4-.92-.59-1.43-.59-.52 0-1.04.2-1.43.59L10.3 9.45l-7.72 7.72c-.78.78-.78 2.05 0 2.83L4 21.41c.39.39.9.59 1.41.59.51 0 1.02-.2 1.41-.59l7.78-7.78 2.81-2.81c.8-.78.8-2.07 0-2.86zM5.41 20L4 18.59l7.72-7.72 1.47 1.35L5.41 20z\"/>\n",
              "  </svg>\n",
              "      </button>\n",
              "      \n",
              "  <style>\n",
              "    .colab-df-container {\n",
              "      display:flex;\n",
              "      flex-wrap:wrap;\n",
              "      gap: 12px;\n",
              "    }\n",
              "\n",
              "    .colab-df-convert {\n",
              "      background-color: #E8F0FE;\n",
              "      border: none;\n",
              "      border-radius: 50%;\n",
              "      cursor: pointer;\n",
              "      display: none;\n",
              "      fill: #1967D2;\n",
              "      height: 32px;\n",
              "      padding: 0 0 0 0;\n",
              "      width: 32px;\n",
              "    }\n",
              "\n",
              "    .colab-df-convert:hover {\n",
              "      background-color: #E2EBFA;\n",
              "      box-shadow: 0px 1px 2px rgba(60, 64, 67, 0.3), 0px 1px 3px 1px rgba(60, 64, 67, 0.15);\n",
              "      fill: #174EA6;\n",
              "    }\n",
              "\n",
              "    [theme=dark] .colab-df-convert {\n",
              "      background-color: #3B4455;\n",
              "      fill: #D2E3FC;\n",
              "    }\n",
              "\n",
              "    [theme=dark] .colab-df-convert:hover {\n",
              "      background-color: #434B5C;\n",
              "      box-shadow: 0px 1px 3px 1px rgba(0, 0, 0, 0.15);\n",
              "      filter: drop-shadow(0px 1px 2px rgba(0, 0, 0, 0.3));\n",
              "      fill: #FFFFFF;\n",
              "    }\n",
              "  </style>\n",
              "\n",
              "      <script>\n",
              "        const buttonEl =\n",
              "          document.querySelector('#df-9b412a23-6055-450f-a661-5a11af4c48b8 button.colab-df-convert');\n",
              "        buttonEl.style.display =\n",
              "          google.colab.kernel.accessAllowed ? 'block' : 'none';\n",
              "\n",
              "        async function convertToInteractive(key) {\n",
              "          const element = document.querySelector('#df-9b412a23-6055-450f-a661-5a11af4c48b8');\n",
              "          const dataTable =\n",
              "            await google.colab.kernel.invokeFunction('convertToInteractive',\n",
              "                                                     [key], {});\n",
              "          if (!dataTable) return;\n",
              "\n",
              "          const docLinkHtml = 'Like what you see? Visit the ' +\n",
              "            '<a target=\"_blank\" href=https://colab.research.google.com/notebooks/data_table.ipynb>data table notebook</a>'\n",
              "            + ' to learn more about interactive tables.';\n",
              "          element.innerHTML = '';\n",
              "          dataTable['output_type'] = 'display_data';\n",
              "          await google.colab.output.renderOutput(dataTable, element);\n",
              "          const docLink = document.createElement('div');\n",
              "          docLink.innerHTML = docLinkHtml;\n",
              "          element.appendChild(docLink);\n",
              "        }\n",
              "      </script>\n",
              "    </div>\n",
              "  </div>\n",
              "  "
            ]
          },
          "metadata": {},
          "execution_count": 15
        }
      ]
    },
    {
      "cell_type": "code",
      "source": [
        "x=[]\n",
        "y=[]\n",
        "for i in range(25000):\n",
        "  # x.append(get_embeddings(data.iloc[i]['text']))\n",
        "  y.append(data.iloc[i]['sentiment'])"
      ],
      "metadata": {
        "id": "a8VZ7QpLT6md"
      },
      "execution_count": null,
      "outputs": []
    },
    {
      "cell_type": "code",
      "source": [
        "import pickle\n",
        "pickle_off=open(path+'t1.txt','rb')\n",
        "dt=pickle.load(pickle_off)"
      ],
      "metadata": {
        "id": "QYTki1ki17PM"
      },
      "execution_count": null,
      "outputs": []
    },
    {
      "cell_type": "code",
      "source": [
        "len(dt[0])"
      ],
      "metadata": {
        "colab": {
          "base_uri": "https://localhost:8080/"
        },
        "id": "63zty0eq2AbG",
        "outputId": "4480e6e6-7706-4504-e344-6d21029df8bd"
      },
      "execution_count": null,
      "outputs": [
        {
          "output_type": "execute_result",
          "data": {
            "text/plain": [
              "768"
            ]
          },
          "metadata": {},
          "execution_count": 48
        }
      ]
    },
    {
      "cell_type": "code",
      "source": [
        "x1=x=dt\n",
        "y1=y"
      ],
      "metadata": {
        "id": "_28pwQ9iljjy"
      },
      "execution_count": null,
      "outputs": []
    },
    {
      "cell_type": "code",
      "source": [
        "x1[24999]"
      ],
      "metadata": {
        "id": "IGdGsfjLqASR"
      },
      "execution_count": null,
      "outputs": []
    },
    {
      "cell_type": "code",
      "source": [
        "# y=y1"
      ],
      "metadata": {
        "id": "tGle7p7ZnrKB"
      },
      "execution_count": null,
      "outputs": []
    },
    {
      "cell_type": "code",
      "source": [
        "# x[0].shape"
      ],
      "metadata": {
        "id": "hRIMDB4mfY29"
      },
      "execution_count": null,
      "outputs": []
    },
    {
      "cell_type": "code",
      "source": [
        "# Y[0].shape"
      ],
      "metadata": {
        "id": "YuyWFqMLhefw"
      },
      "execution_count": null,
      "outputs": []
    },
    {
      "cell_type": "code",
      "source": [
        "x=np.array(x)"
      ],
      "metadata": {
        "id": "LgTGYCCGhCiY"
      },
      "execution_count": null,
      "outputs": []
    },
    {
      "cell_type": "code",
      "source": [
        "y=np.array(y)"
      ],
      "metadata": {
        "id": "lfQmMXBuhkGn"
      },
      "execution_count": null,
      "outputs": []
    },
    {
      "cell_type": "code",
      "source": [
        "# x=np.expand_dims(x,axis=0)"
      ],
      "metadata": {
        "id": "5tQKmIDhhR1G"
      },
      "execution_count": null,
      "outputs": []
    },
    {
      "cell_type": "code",
      "source": [
        "y=y.reshape(25000,1)"
      ],
      "metadata": {
        "id": "T0liGPEfl88x"
      },
      "execution_count": null,
      "outputs": []
    },
    {
      "cell_type": "code",
      "source": [
        "# y=np.expand_dims(y,axis=0)"
      ],
      "metadata": {
        "id": "cGDKzBRZhwUp"
      },
      "execution_count": null,
      "outputs": []
    },
    {
      "cell_type": "code",
      "source": [
        "from sklearn.preprocessing import OneHotEncoder"
      ],
      "metadata": {
        "id": "pVQ2OLjeYhx9"
      },
      "execution_count": null,
      "outputs": []
    },
    {
      "cell_type": "code",
      "source": [
        "onehot_encoder=OneHotEncoder(sparse=False)\n",
        "\n",
        "y=onehot_encoder.fit_transform(y)"
      ],
      "metadata": {
        "id": "Ots8Y7wwZyxN"
      },
      "execution_count": null,
      "outputs": []
    },
    {
      "cell_type": "code",
      "source": [],
      "metadata": {
        "id": "_USKSFPM0u0W"
      },
      "execution_count": null,
      "outputs": []
    },
    {
      "cell_type": "code",
      "source": [
        "y[0]"
      ],
      "metadata": {
        "id": "jTTZJfjon8pu",
        "colab": {
          "base_uri": "https://localhost:8080/"
        },
        "outputId": "88248bee-1ccc-4032-cf06-944e35d76c67"
      },
      "execution_count": null,
      "outputs": [
        {
          "output_type": "execute_result",
          "data": {
            "text/plain": [
              "array([1., 0.])"
            ]
          },
          "metadata": {},
          "execution_count": 57
        }
      ]
    },
    {
      "cell_type": "code",
      "source": [
        "x_train,x_test,y_train,y_test=train_test_split(x,y,test_size=0.2)"
      ],
      "metadata": {
        "id": "tBi_h7vobYWx"
      },
      "execution_count": null,
      "outputs": []
    },
    {
      "cell_type": "code",
      "source": [
        "model=Sequential()\n",
        "# model.add(Dense(256,batch_input_shape=(None,768,),activation='linear'))\n",
        "# model.add(LeakyReLU(0.01))\n",
        "# model.add(Dropout(0.2))\n",
        "model.add(Dense(128,batch_input_shape=(None,768,),activation='linear'))\n",
        "model.add(LeakyReLU(0.01))\n",
        "model.add(Dropout(0.2))\n",
        "model.add(Dense(64,activation='linear'))\n",
        "model.add(LeakyReLU(0.01))\n",
        "model.add(Dropout(0.2))\n",
        "model.add(Dense(16,activation='linear'))\n",
        "model.add(LeakyReLU(0.01))\n",
        "model.add(Dropout(0.2))\n",
        "model.add(Dense(2,activation='softmax'))\n"
      ],
      "metadata": {
        "id": "yeRt_I-9T4b2"
      },
      "execution_count": null,
      "outputs": []
    },
    {
      "cell_type": "code",
      "source": [
        "model.compile(loss='binary_crossentropy',optimizer='adam',metrics=['accuracy'])"
      ],
      "metadata": {
        "id": "6aDcGVeDXYzW"
      },
      "execution_count": null,
      "outputs": []
    },
    {
      "cell_type": "code",
      "source": [
        "model.summary()"
      ],
      "metadata": {
        "id": "KGFTtSlYkk_S"
      },
      "execution_count": null,
      "outputs": []
    },
    {
      "cell_type": "code",
      "source": [
        "len(y_test)"
      ],
      "metadata": {
        "id": "TI66X0FlnUWt",
        "colab": {
          "base_uri": "https://localhost:8080/"
        },
        "outputId": "b2915693-a63d-434e-fa42-c6a07d0eab80"
      },
      "execution_count": null,
      "outputs": [
        {
          "output_type": "execute_result",
          "data": {
            "text/plain": [
              "5000"
            ]
          },
          "metadata": {},
          "execution_count": 74
        }
      ]
    },
    {
      "cell_type": "code",
      "source": [
        "model.fit(x_train,y_train,validation_data=(x_test,y_test),epochs=10)"
      ],
      "metadata": {
        "id": "yKDSqg1Fbjhd",
        "colab": {
          "base_uri": "https://localhost:8080/"
        },
        "outputId": "54f5d989-807e-4753-aab6-533fa35c7508"
      },
      "execution_count": null,
      "outputs": [
        {
          "output_type": "stream",
          "name": "stdout",
          "text": [
            "Epoch 1/10\n",
            "625/625 [==============================] - 4s 5ms/step - loss: 0.6435 - accuracy: 0.6343 - val_loss: 0.6042 - val_accuracy: 0.6720\n",
            "Epoch 2/10\n",
            "625/625 [==============================] - 3s 4ms/step - loss: 0.6087 - accuracy: 0.6793 - val_loss: 0.6156 - val_accuracy: 0.6622\n",
            "Epoch 3/10\n",
            "625/625 [==============================] - 3s 4ms/step - loss: 0.5998 - accuracy: 0.6872 - val_loss: 0.5904 - val_accuracy: 0.6892\n",
            "Epoch 4/10\n",
            "625/625 [==============================] - 3s 4ms/step - loss: 0.5917 - accuracy: 0.6899 - val_loss: 0.5948 - val_accuracy: 0.6898\n",
            "Epoch 5/10\n",
            "625/625 [==============================] - 3s 4ms/step - loss: 0.5858 - accuracy: 0.6962 - val_loss: 0.5855 - val_accuracy: 0.6900\n",
            "Epoch 6/10\n",
            "625/625 [==============================] - 2s 4ms/step - loss: 0.5774 - accuracy: 0.7037 - val_loss: 0.5840 - val_accuracy: 0.6942\n",
            "Epoch 7/10\n",
            "625/625 [==============================] - 3s 4ms/step - loss: 0.5714 - accuracy: 0.7071 - val_loss: 0.5846 - val_accuracy: 0.6926\n",
            "Epoch 8/10\n",
            "625/625 [==============================] - 3s 4ms/step - loss: 0.5658 - accuracy: 0.7067 - val_loss: 0.5915 - val_accuracy: 0.6936\n",
            "Epoch 9/10\n",
            "625/625 [==============================] - 3s 4ms/step - loss: 0.5623 - accuracy: 0.7144 - val_loss: 0.5903 - val_accuracy: 0.6950\n",
            "Epoch 10/10\n",
            "625/625 [==============================] - 3s 4ms/step - loss: 0.5519 - accuracy: 0.7221 - val_loss: 0.5890 - val_accuracy: 0.6874\n"
          ]
        },
        {
          "output_type": "execute_result",
          "data": {
            "text/plain": [
              "<keras.callbacks.History at 0x7f4c1f2cfbd0>"
            ]
          },
          "metadata": {},
          "execution_count": 75
        }
      ]
    },
    {
      "cell_type": "code",
      "source": [
        "path"
      ],
      "metadata": {
        "colab": {
          "base_uri": "https://localhost:8080/",
          "height": 35
        },
        "id": "OgGOviDoqhAf",
        "outputId": "adf3e1b9-bb69-4976-e3eb-268a11184e26"
      },
      "execution_count": null,
      "outputs": [
        {
          "output_type": "execute_result",
          "data": {
            "text/plain": [
              "'/content/drive/MyDrive/Dataset/dl_nlp/'"
            ],
            "application/vnd.google.colaboratory.intrinsic+json": {
              "type": "string"
            }
          },
          "metadata": {},
          "execution_count": 35
        }
      ]
    },
    {
      "cell_type": "code",
      "source": [
        "model.save(path+'model1.h5')"
      ],
      "metadata": {
        "id": "wLJUhAu50wWz"
      },
      "execution_count": null,
      "outputs": []
    },
    {
      "cell_type": "code",
      "source": [],
      "metadata": {
        "id": "Q5wXfdbR1biv"
      },
      "execution_count": null,
      "outputs": []
    },
    {
      "cell_type": "code",
      "source": [
        "x1[0]"
      ],
      "metadata": {
        "id": "cmty7VB71brY"
      },
      "execution_count": null,
      "outputs": []
    },
    {
      "cell_type": "markdown",
      "source": [
        "## Testing"
      ],
      "metadata": {
        "id": "zx4ri1Uy1f7Z"
      }
    },
    {
      "cell_type": "code",
      "source": [
        "name='bert-base-multilingual-uncased'\n",
        "tokenizer22=BertTokenizer.from_pretrained(name)\n",
        "model22=TFBertModel.from_pretrained(name)"
      ],
      "metadata": {
        "id": "sfu4H88719xI",
        "colab": {
          "base_uri": "https://localhost:8080/"
        },
        "outputId": "fc3ee238-fd3a-4262-f4b0-00440a72954c"
      },
      "execution_count": null,
      "outputs": [
        {
          "output_type": "stream",
          "name": "stderr",
          "text": [
            "Some layers from the model checkpoint at bert-base-multilingual-uncased were not used when initializing TFBertModel: ['nsp___cls', 'mlm___cls']\n",
            "- This IS expected if you are initializing TFBertModel from the checkpoint of a model trained on another task or with another architecture (e.g. initializing a BertForSequenceClassification model from a BertForPreTraining model).\n",
            "- This IS NOT expected if you are initializing TFBertModel from the checkpoint of a model that you expect to be exactly identical (initializing a BertForSequenceClassification model from a BertForSequenceClassification model).\n",
            "All the layers of TFBertModel were initialized from the model checkpoint at bert-base-multilingual-uncased.\n",
            "If your task is similar to the task the model of the checkpoint was trained on, you can already use TFBertModel for predictions without further training.\n"
          ]
        }
      ]
    },
    {
      "cell_type": "code",
      "source": [
        "# tokenizer22.save_pretrained(path)"
      ],
      "metadata": {
        "colab": {
          "base_uri": "https://localhost:8080/"
        },
        "id": "WHPvREnKw6ue",
        "outputId": "efdaa130-9991-4d5d-bea9-8914ba7270cf"
      },
      "execution_count": null,
      "outputs": [
        {
          "output_type": "execute_result",
          "data": {
            "text/plain": [
              "('/content/drive/MyDrive/Dataset/dl_nlp/tokenizer_config.json',\n",
              " '/content/drive/MyDrive/Dataset/dl_nlp/special_tokens_map.json',\n",
              " '/content/drive/MyDrive/Dataset/dl_nlp/vocab.txt',\n",
              " '/content/drive/MyDrive/Dataset/dl_nlp/added_tokens.json')"
            ]
          },
          "metadata": {},
          "execution_count": 43
        }
      ]
    },
    {
      "cell_type": "code",
      "source": [
        "# model22.save_pretrained(path)"
      ],
      "metadata": {
        "id": "IkVuRTs4svic"
      },
      "execution_count": null,
      "outputs": []
    },
    {
      "cell_type": "code",
      "source": [],
      "metadata": {
        "id": "x9D3hiO1s0kJ"
      },
      "execution_count": null,
      "outputs": []
    },
    {
      "cell_type": "code",
      "source": [
        "def get_embeddings2(sentence):\n",
        "  encoded_input=tokenizer22(sentence,return_tensors='tf')\n",
        "  output=model22(encoded_input,output_hidden_states=True)\n",
        "  hidden_states=output.hidden_states\n",
        "  token_vecs=np.concatenate((hidden_states[-4],np.concatenate((hidden_states[-3],np.concatenate((hidden_states[-2],\n",
        "                     hidden_states[-1]),axis=0)),axis=0)),axis=0)\n",
        "  token_rep=np.mean(np.mean(token_vecs,axis=0),axis=0)\n",
        "  return token_rep"
      ],
      "metadata": {
        "id": "yFivpOon2JYr"
      },
      "execution_count": null,
      "outputs": []
    },
    {
      "cell_type": "code",
      "source": [
        "from tensorflow.keras.models import load_model"
      ],
      "metadata": {
        "id": "thydmpGB0MuN"
      },
      "execution_count": null,
      "outputs": []
    },
    {
      "cell_type": "code",
      "source": [
        "model1=load_model(path+'model1.h5')"
      ],
      "metadata": {
        "id": "V1jejXxW0hfP"
      },
      "execution_count": null,
      "outputs": []
    },
    {
      "cell_type": "code",
      "source": [
        "def prediction(sentence):\n",
        "  emb=get_embeddings2(sentence)\n",
        "  emb=np.array(emb)\n",
        "  emb=np.expand_dims(emb,axis=0)\n",
        "  # print(emb.shape)\n",
        "  result=model1.predict(emb)\n",
        "  return np.argmax(result,axis=1)"
      ],
      "metadata": {
        "id": "UB6cohvhsGei"
      },
      "execution_count": null,
      "outputs": []
    },
    {
      "cell_type": "code",
      "source": [
        "prediction('He is good boy.')[0]"
      ],
      "metadata": {
        "id": "YHe1fVkgjD80"
      },
      "execution_count": null,
      "outputs": []
    },
    {
      "cell_type": "code",
      "source": [],
      "metadata": {
        "id": "_SK6jtr9jJSi"
      },
      "execution_count": null,
      "outputs": []
    },
    {
      "cell_type": "code",
      "source": [],
      "metadata": {
        "id": "yy4Sm2pEjJVX"
      },
      "execution_count": null,
      "outputs": []
    },
    {
      "cell_type": "code",
      "source": [],
      "metadata": {
        "id": "j2z5S0vrjJYm"
      },
      "execution_count": null,
      "outputs": []
    },
    {
      "cell_type": "code",
      "source": [],
      "metadata": {
        "id": "IyDGjyANjJbX"
      },
      "execution_count": null,
      "outputs": []
    },
    {
      "cell_type": "code",
      "source": [],
      "metadata": {
        "id": "GjfEvhyrjJeL"
      },
      "execution_count": null,
      "outputs": []
    },
    {
      "cell_type": "code",
      "source": [
        "data_chk=data[25000:27500]\n",
        "data_chk.head()"
      ],
      "metadata": {
        "colab": {
          "base_uri": "https://localhost:8080/",
          "height": 206
        },
        "id": "fVJsAkp22c9b",
        "outputId": "1b482d66-f973-45b4-a704-18586dae082b"
      },
      "execution_count": null,
      "outputs": [
        {
          "output_type": "execute_result",
          "data": {
            "text/plain": [
              "       sentiment                                               text\n",
              "25000          1                                     अभी खा रहा हूँ\n",
              "25001          1  हम आपको बता सकते हैं कि आपको एक नया रूप मिल गय...\n",
              "25002          1  ઓલ અમેરિકન રિજેક્ટ્સ દ્વારા નવા \"વુમનાઇઝર\"ને સ...\n",
              "25003          0  @lizzie123x અભ્યાસ.. 2 અઠવાડિયામાં ફાઇનલ્સ. પર...\n",
              "25004          0  मैं बहुत बीमार महसूस कर रहा हूं ऐसा महसूस हो र..."
            ],
            "text/html": [
              "\n",
              "  <div id=\"df-b360269e-737a-45aa-929d-926ae56b82da\">\n",
              "    <div class=\"colab-df-container\">\n",
              "      <div>\n",
              "<style scoped>\n",
              "    .dataframe tbody tr th:only-of-type {\n",
              "        vertical-align: middle;\n",
              "    }\n",
              "\n",
              "    .dataframe tbody tr th {\n",
              "        vertical-align: top;\n",
              "    }\n",
              "\n",
              "    .dataframe thead th {\n",
              "        text-align: right;\n",
              "    }\n",
              "</style>\n",
              "<table border=\"1\" class=\"dataframe\">\n",
              "  <thead>\n",
              "    <tr style=\"text-align: right;\">\n",
              "      <th></th>\n",
              "      <th>sentiment</th>\n",
              "      <th>text</th>\n",
              "    </tr>\n",
              "  </thead>\n",
              "  <tbody>\n",
              "    <tr>\n",
              "      <th>25000</th>\n",
              "      <td>1</td>\n",
              "      <td>अभी खा रहा हूँ</td>\n",
              "    </tr>\n",
              "    <tr>\n",
              "      <th>25001</th>\n",
              "      <td>1</td>\n",
              "      <td>हम आपको बता सकते हैं कि आपको एक नया रूप मिल गय...</td>\n",
              "    </tr>\n",
              "    <tr>\n",
              "      <th>25002</th>\n",
              "      <td>1</td>\n",
              "      <td>ઓલ અમેરિકન રિજેક્ટ્સ દ્વારા નવા \"વુમનાઇઝર\"ને સ...</td>\n",
              "    </tr>\n",
              "    <tr>\n",
              "      <th>25003</th>\n",
              "      <td>0</td>\n",
              "      <td>@lizzie123x અભ્યાસ.. 2 અઠવાડિયામાં ફાઇનલ્સ. પર...</td>\n",
              "    </tr>\n",
              "    <tr>\n",
              "      <th>25004</th>\n",
              "      <td>0</td>\n",
              "      <td>मैं बहुत बीमार महसूस कर रहा हूं ऐसा महसूस हो र...</td>\n",
              "    </tr>\n",
              "  </tbody>\n",
              "</table>\n",
              "</div>\n",
              "      <button class=\"colab-df-convert\" onclick=\"convertToInteractive('df-b360269e-737a-45aa-929d-926ae56b82da')\"\n",
              "              title=\"Convert this dataframe to an interactive table.\"\n",
              "              style=\"display:none;\">\n",
              "        \n",
              "  <svg xmlns=\"http://www.w3.org/2000/svg\" height=\"24px\"viewBox=\"0 0 24 24\"\n",
              "       width=\"24px\">\n",
              "    <path d=\"M0 0h24v24H0V0z\" fill=\"none\"/>\n",
              "    <path d=\"M18.56 5.44l.94 2.06.94-2.06 2.06-.94-2.06-.94-.94-2.06-.94 2.06-2.06.94zm-11 1L8.5 8.5l.94-2.06 2.06-.94-2.06-.94L8.5 2.5l-.94 2.06-2.06.94zm10 10l.94 2.06.94-2.06 2.06-.94-2.06-.94-.94-2.06-.94 2.06-2.06.94z\"/><path d=\"M17.41 7.96l-1.37-1.37c-.4-.4-.92-.59-1.43-.59-.52 0-1.04.2-1.43.59L10.3 9.45l-7.72 7.72c-.78.78-.78 2.05 0 2.83L4 21.41c.39.39.9.59 1.41.59.51 0 1.02-.2 1.41-.59l7.78-7.78 2.81-2.81c.8-.78.8-2.07 0-2.86zM5.41 20L4 18.59l7.72-7.72 1.47 1.35L5.41 20z\"/>\n",
              "  </svg>\n",
              "      </button>\n",
              "      \n",
              "  <style>\n",
              "    .colab-df-container {\n",
              "      display:flex;\n",
              "      flex-wrap:wrap;\n",
              "      gap: 12px;\n",
              "    }\n",
              "\n",
              "    .colab-df-convert {\n",
              "      background-color: #E8F0FE;\n",
              "      border: none;\n",
              "      border-radius: 50%;\n",
              "      cursor: pointer;\n",
              "      display: none;\n",
              "      fill: #1967D2;\n",
              "      height: 32px;\n",
              "      padding: 0 0 0 0;\n",
              "      width: 32px;\n",
              "    }\n",
              "\n",
              "    .colab-df-convert:hover {\n",
              "      background-color: #E2EBFA;\n",
              "      box-shadow: 0px 1px 2px rgba(60, 64, 67, 0.3), 0px 1px 3px 1px rgba(60, 64, 67, 0.15);\n",
              "      fill: #174EA6;\n",
              "    }\n",
              "\n",
              "    [theme=dark] .colab-df-convert {\n",
              "      background-color: #3B4455;\n",
              "      fill: #D2E3FC;\n",
              "    }\n",
              "\n",
              "    [theme=dark] .colab-df-convert:hover {\n",
              "      background-color: #434B5C;\n",
              "      box-shadow: 0px 1px 3px 1px rgba(0, 0, 0, 0.15);\n",
              "      filter: drop-shadow(0px 1px 2px rgba(0, 0, 0, 0.3));\n",
              "      fill: #FFFFFF;\n",
              "    }\n",
              "  </style>\n",
              "\n",
              "      <script>\n",
              "        const buttonEl =\n",
              "          document.querySelector('#df-b360269e-737a-45aa-929d-926ae56b82da button.colab-df-convert');\n",
              "        buttonEl.style.display =\n",
              "          google.colab.kernel.accessAllowed ? 'block' : 'none';\n",
              "\n",
              "        async function convertToInteractive(key) {\n",
              "          const element = document.querySelector('#df-b360269e-737a-45aa-929d-926ae56b82da');\n",
              "          const dataTable =\n",
              "            await google.colab.kernel.invokeFunction('convertToInteractive',\n",
              "                                                     [key], {});\n",
              "          if (!dataTable) return;\n",
              "\n",
              "          const docLinkHtml = 'Like what you see? Visit the ' +\n",
              "            '<a target=\"_blank\" href=https://colab.research.google.com/notebooks/data_table.ipynb>data table notebook</a>'\n",
              "            + ' to learn more about interactive tables.';\n",
              "          element.innerHTML = '';\n",
              "          dataTable['output_type'] = 'display_data';\n",
              "          await google.colab.output.renderOutput(dataTable, element);\n",
              "          const docLink = document.createElement('div');\n",
              "          docLink.innerHTML = docLinkHtml;\n",
              "          element.appendChild(docLink);\n",
              "        }\n",
              "      </script>\n",
              "    </div>\n",
              "  </div>\n",
              "  "
            ]
          },
          "metadata": {},
          "execution_count": 18
        }
      ]
    },
    {
      "cell_type": "code",
      "source": [
        "x_chk=[]\n",
        "y_chk=[]\n",
        "for i in range(len(data_chk)):\n",
        "  x_chk.append(data_chk.iloc[i]['text'])\n",
        "  y_chk.append(data_chk.iloc[i]['sentiment'])"
      ],
      "metadata": {
        "id": "w08DWFMA1zzg"
      },
      "execution_count": null,
      "outputs": []
    },
    {
      "cell_type": "code",
      "source": [
        "x_chk[0]"
      ],
      "metadata": {
        "colab": {
          "base_uri": "https://localhost:8080/",
          "height": 35
        },
        "id": "2kq60jN_TSSu",
        "outputId": "54d7033e-ebea-4202-b7e9-074a8b272254"
      },
      "execution_count": null,
      "outputs": [
        {
          "output_type": "execute_result",
          "data": {
            "text/plain": [
              "'अभी खा रहा हूँ'"
            ],
            "application/vnd.google.colaboratory.intrinsic+json": {
              "type": "string"
            }
          },
          "metadata": {},
          "execution_count": 77
        }
      ]
    },
    {
      "cell_type": "code",
      "source": [
        "y_pred=[]\n",
        "for i in range(len(y_chk)):\n",
        "  y_pred.append(prediction(x_chk[i])[0])"
      ],
      "metadata": {
        "id": "Z4Fb7jrq2x6X"
      },
      "execution_count": null,
      "outputs": []
    },
    {
      "cell_type": "code",
      "source": [
        "y_chk[:10]"
      ],
      "metadata": {
        "colab": {
          "base_uri": "https://localhost:8080/"
        },
        "id": "i-PGCTA2EeLu",
        "outputId": "dfb7b697-2ded-48da-94f6-a48b4394b08f"
      },
      "execution_count": null,
      "outputs": [
        {
          "output_type": "execute_result",
          "data": {
            "text/plain": [
              "[1, 1, 1, 0, 0, 1, 1, 0, 0, 0]"
            ]
          },
          "metadata": {},
          "execution_count": 84
        }
      ]
    },
    {
      "cell_type": "code",
      "source": [
        "y_pred[:10]"
      ],
      "metadata": {
        "colab": {
          "base_uri": "https://localhost:8080/"
        },
        "id": "Fj5kbcOyEYvQ",
        "outputId": "df19cebe-c016-417e-be80-55953939d65b"
      },
      "execution_count": null,
      "outputs": [
        {
          "output_type": "execute_result",
          "data": {
            "text/plain": [
              "[0, 1, 1, 0, 0, 0, 1, 1, 0, 0]"
            ]
          },
          "metadata": {},
          "execution_count": 80
        }
      ]
    },
    {
      "cell_type": "code",
      "source": [
        "from sklearn.metrics import classification_report, confusion_matrix\n"
      ],
      "metadata": {
        "id": "R3amvEch1a8Y"
      },
      "execution_count": null,
      "outputs": []
    },
    {
      "cell_type": "code",
      "source": [
        "confusion_matrix(y_chk,y_pred)"
      ],
      "metadata": {
        "colab": {
          "base_uri": "https://localhost:8080/"
        },
        "id": "meflTAUU5AFi",
        "outputId": "459239cd-cff9-4376-effc-209f9c3a3ef8"
      },
      "execution_count": null,
      "outputs": [
        {
          "output_type": "execute_result",
          "data": {
            "text/plain": [
              "array([[900, 338],\n",
              "       [426, 836]])"
            ]
          },
          "metadata": {},
          "execution_count": 85
        }
      ]
    },
    {
      "cell_type": "code",
      "source": [
        "print(classification_report(y_chk,y_pred))"
      ],
      "metadata": {
        "colab": {
          "base_uri": "https://localhost:8080/"
        },
        "id": "NNU2r9AS3rcH",
        "outputId": "f5b1a0c3-8c24-49ae-d0dc-90cd689ec713"
      },
      "execution_count": null,
      "outputs": [
        {
          "output_type": "stream",
          "name": "stdout",
          "text": [
            "              precision    recall  f1-score   support\n",
            "\n",
            "           0       0.68      0.73      0.70      1238\n",
            "           1       0.71      0.66      0.69      1262\n",
            "\n",
            "    accuracy                           0.69      2500\n",
            "   macro avg       0.70      0.69      0.69      2500\n",
            "weighted avg       0.70      0.69      0.69      2500\n",
            "\n"
          ]
        }
      ]
    },
    {
      "cell_type": "code",
      "source": [
        "prediction('अभी खा रहा हूँ')[0]"
      ],
      "metadata": {
        "id": "qgnrxVUgs3a9",
        "colab": {
          "base_uri": "https://localhost:8080/"
        },
        "outputId": "fd840359-15fa-4a01-d6a8-be6ad4f952b9"
      },
      "execution_count": null,
      "outputs": [
        {
          "output_type": "execute_result",
          "data": {
            "text/plain": [
              "0"
            ]
          },
          "metadata": {},
          "execution_count": 78
        }
      ]
    },
    {
      "cell_type": "code",
      "source": [],
      "metadata": {
        "id": "XFUktwdjsqqI"
      },
      "execution_count": null,
      "outputs": []
    },
    {
      "cell_type": "code",
      "source": [
        "# import pickle\n",
        "# with open(path+'t1.txt','wb') as fh:\n",
        "#   pickle.dump(x1,fh)\n"
      ],
      "metadata": {
        "id": "xsjJBASjsXaa"
      },
      "execution_count": null,
      "outputs": []
    },
    {
      "cell_type": "code",
      "source": [
        "pickle_off=open(path+'t1.txt','rb')\n",
        "dt=pickle.load(pickle_off)\n"
      ],
      "metadata": {
        "id": "Z6jFvY5OtRKH"
      },
      "execution_count": null,
      "outputs": []
    },
    {
      "cell_type": "code",
      "source": [
        "len(dt)"
      ],
      "metadata": {
        "colab": {
          "base_uri": "https://localhost:8080/"
        },
        "id": "O-f-EmFJtcRv",
        "outputId": "65d7442e-076b-455f-af7f-4bde943c433c"
      },
      "execution_count": null,
      "outputs": [
        {
          "output_type": "execute_result",
          "data": {
            "text/plain": [
              "25000"
            ]
          },
          "metadata": {},
          "execution_count": 77
        }
      ]
    },
    {
      "cell_type": "code",
      "source": [
        "# model.predict(x_train)"
      ],
      "metadata": {
        "id": "GXeFk0oPoX9I"
      },
      "execution_count": null,
      "outputs": []
    },
    {
      "cell_type": "code",
      "source": [
        "# x=x.reshape(50,768)\n",
        "# Y=Y.reshape(50,2)"
      ],
      "metadata": {
        "id": "24NDIwTDib4f"
      },
      "execution_count": null,
      "outputs": []
    },
    {
      "cell_type": "code",
      "source": [
        "# x_train=x_train.reshape(1,40,768)\n",
        "# y_train=y_train.reshape(1,40,2)\n",
        "# x_test=x_test.reshape(1,10,768)\n",
        "# y_test=y_test.reshape(1,10,2)"
      ],
      "metadata": {
        "id": "0aTnq0Hqinlk"
      },
      "execution_count": null,
      "outputs": []
    },
    {
      "cell_type": "code",
      "source": [
        "# len(y_train)"
      ],
      "metadata": {
        "id": "vRTQw4MFb1mu"
      },
      "execution_count": null,
      "outputs": []
    }
  ]
}